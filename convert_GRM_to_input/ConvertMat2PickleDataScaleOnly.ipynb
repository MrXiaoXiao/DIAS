{
 "cells": [
  {
   "cell_type": "code",
   "execution_count": 4,
   "metadata": {
    "collapsed": true
   },
   "outputs": [],
   "source": [
    "import os\n",
    "from pathlib import Path\n",
    "import numpy as np\n",
    "import scipy.io\n",
    "import matplotlib.pyplot as plt"
   ]
  },
  {
   "cell_type": "code",
   "execution_count": 12,
   "metadata": {
    "collapsed": true
   },
   "outputs": [],
   "source": [
    "# set SBF directory here\n",
    "SBF_BASE_DIR_NAME = 'F:/Ionosonde/SBF_mat_test/'\n",
    "SBF_SAVE_DIR_NAME = 'F:/Ionosonde/pickle_test/'\n",
    "SBF_BASE_DIR = Path(SBF_BASE_DIR_NAME)"
   ]
  },
  {
   "cell_type": "code",
   "execution_count": 15,
   "metadata": {},
   "outputs": [],
   "source": [
    "counter = 0\n",
    "# save list\n",
    "gt_x_list = list()\n",
    "\n",
    "record_file = open(SBF_SAVE_DIR_NAME+'test_data.lst','w')\n",
    "\n",
    "for SBFs in SBF_BASE_DIR.glob('*.mat'):\n",
    "    t_mat_name = str(SBFs)\n",
    "    if os.path.exists(t_mat_name):\n",
    "        pass\n",
    "    else:\n",
    "        continue\n",
    "\n",
    "    t_mat = scipy.io.loadmat(t_mat_name)\n",
    "\n",
    "    amp_O = t_mat['AmplitudeO']\n",
    "    amp_X = t_mat['AmplitudeX']\n",
    "    MPA_O = t_mat['MPAO']\n",
    "    MPA_X = t_mat['MPAX']\n",
    "    Hs = float(t_mat['HeightStart'][0][0])\n",
    "    Hd = float(t_mat['HeightStep'][0][0])\n",
    "    Fs = float(t_mat['FrequencyStart'][0][0])\n",
    "    Fd = float(t_mat['FrequencyStep'][0][0])\n",
    "\n",
    "    input_array = np.zeros([np.shape(amp_O)[0],np.shape(amp_O)[1],3],dtype='uint8')\n",
    "    input_array[:,:,0] = amp_O\n",
    "    input_array[:,:,1] = amp_X\n",
    "\n",
    "    if np.shape(input_array)[1] != np.shape(MPA_O)[1]:\n",
    "        for jdx in range(np.shape(amp_O)[0]):\n",
    "            input_array[jdx,:,2] = MPA_O[0,:np.shape(input_array)[1]]\n",
    "    else:\n",
    "        for jdx in range(np.shape(amp_O)[0]):\n",
    "            input_array[jdx,:,2] = MPA_O\n",
    "\n",
    "    t_f = open(SBF_SAVE_DIR_NAME+SBFs.name+'.pickle','wb')\n",
    "    pickle.dump(input_array,t_f)\n",
    "    t_f.close()\n",
    "    record_file.write('/pickle_test/'+SBFs.name+'.pickle\\n')\n",
    "record_file.close()"
   ]
  },
  {
   "cell_type": "code",
   "execution_count": 10,
   "metadata": {
    "collapsed": true
   },
   "outputs": [],
   "source": [
    "import pickle"
   ]
  },
  {
   "cell_type": "code",
   "execution_count": 11,
   "metadata": {
    "collapsed": true
   },
   "outputs": [],
   "source": [
    "pickle.dump(gt_x_list,open('data_in.pickle','wb'))"
   ]
  },
  {
   "cell_type": "code",
   "execution_count": null,
   "metadata": {
    "collapsed": true
   },
   "outputs": [],
   "source": []
  }
 ],
 "metadata": {
  "kernelspec": {
   "display_name": "Python 3",
   "language": "python",
   "name": "python3"
  },
  "language_info": {
   "codemirror_mode": {
    "name": "ipython",
    "version": 3
   },
   "file_extension": ".py",
   "mimetype": "text/x-python",
   "name": "python",
   "nbconvert_exporter": "python",
   "pygments_lexer": "ipython3",
   "version": "3.6.3"
  }
 },
 "nbformat": 4,
 "nbformat_minor": 2
}
